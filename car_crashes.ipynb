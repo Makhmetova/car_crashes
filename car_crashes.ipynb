{
 "cells": [
  {
   "cell_type": "markdown",
   "id": "ecdf4a03",
   "metadata": {},
   "source": [
    "# Midterm, Kuralay Makhmetova, id: 26207"
   ]
  },
  {
   "cell_type": "markdown",
   "id": "74c5a076",
   "metadata": {},
   "source": [
    "# Part One"
   ]
  },
  {
   "cell_type": "markdown",
   "id": "8c88c452",
   "metadata": {},
   "source": [
    " ## Exercise-1 "
   ]
  },
  {
   "cell_type": "code",
   "execution_count": 1,
   "id": "06d048a7",
   "metadata": {},
   "outputs": [],
   "source": [
    "#importing libraries\n",
    "import pandas as pd #importing pandas library as pd\n",
    "import numpy as np #importing numpy library as np\n",
    "import matplotlib.pyplot as plt  #importing matlpotly library as plt\n",
    "import seaborn as sns #importing seaborn as sns"
   ]
  },
  {
   "cell_type": "code",
   "execution_count": 2,
   "id": "168c4a1e",
   "metadata": {},
   "outputs": [],
   "source": [
    "dataset = pd.read_csv('car_crashes .csv' ) #loading the data "
   ]
  },
  {
   "cell_type": "code",
   "execution_count": 3,
   "id": "eb53a4d4",
   "metadata": {},
   "outputs": [
    {
     "name": "stdout",
     "output_type": "stream",
     "text": [
      "    total  speeding  alcohol  not_distracted  no_previous  ins_premium  \\\n",
      "0    18.8     7.332    5.640          18.048       15.040       784.55   \n",
      "1    18.1     7.421    4.525          16.290       17.014      1053.48   \n",
      "2    18.6     6.510    5.208          15.624       17.856       899.47   \n",
      "3    22.4     4.032    5.824          21.056       21.280       827.34   \n",
      "4    12.0     4.200    3.360          10.920       10.680       878.41   \n",
      "5    13.6     5.032    3.808          10.744       12.920       835.50   \n",
      "6    10.8     4.968    3.888           9.396        8.856      1068.73   \n",
      "7    16.2     6.156    4.860          14.094       16.038      1137.87   \n",
      "8     5.9     2.006    1.593           5.900        5.900      1273.89   \n",
      "9    17.9     3.759    5.191          16.468       16.826      1160.13   \n",
      "10   15.6     2.964    3.900          14.820       14.508       913.15   \n",
      "11   17.5     9.450    7.175          14.350       15.225       861.18   \n",
      "12   15.3     5.508    4.437          13.005       14.994       641.96   \n",
      "13   12.8     4.608    4.352          12.032       12.288       803.11   \n",
      "14   14.5     3.625    4.205          13.775       13.775       710.46   \n",
      "15   15.7     2.669    3.925          15.229       13.659       649.06   \n",
      "16   17.8     4.806    4.272          13.706       15.130       780.45   \n",
      "17   21.4     4.066    4.922          16.692       16.264       872.51   \n",
      "18   20.5     7.175    6.765          14.965       20.090      1281.55   \n",
      "19   15.1     5.738    4.530          13.137       12.684       661.88   \n",
      "20   12.5     4.250    4.000           8.875       12.375      1048.78   \n",
      "21    8.2     1.886    2.870           7.134        6.560      1011.14   \n",
      "22   14.1     3.384    3.948          13.395       10.857      1110.61   \n",
      "23    9.6     2.208    2.784           8.448        8.448       777.18   \n",
      "24   17.6     2.640    5.456           1.760       17.600       896.07   \n",
      "25   16.1     6.923    5.474          14.812       13.524       790.32   \n",
      "26   21.4     8.346    9.416          17.976       18.190       816.21   \n",
      "27   14.9     1.937    5.215          13.857       13.410       732.28   \n",
      "28   14.7     5.439    4.704          13.965       14.553      1029.87   \n",
      "29   11.6     4.060    3.480          10.092        9.628       746.54   \n",
      "30   11.2     1.792    3.136           9.632        8.736      1301.52   \n",
      "31   18.4     3.496    4.968          12.328       18.032       869.85   \n",
      "32   12.3     3.936    3.567          10.824        9.840      1234.31   \n",
      "33   16.8     6.552    5.208          15.792       13.608       708.24   \n",
      "34   23.9     5.497   10.038          23.661       20.554       688.75   \n",
      "35   14.1     3.948    4.794          13.959       11.562       697.73   \n",
      "36   19.9     6.368    5.771          18.308       18.706       881.51   \n",
      "37   12.8     4.224    3.328           8.576       11.520       804.71   \n",
      "38   18.2     9.100    5.642          17.472       16.016       905.99   \n",
      "39   11.1     3.774    4.218          10.212        8.769      1148.99   \n",
      "40   23.9     9.082    9.799          22.944       19.359       858.97   \n",
      "41   19.4     6.014    6.402          19.012       16.684       669.31   \n",
      "42   19.5     4.095    5.655          15.990       15.795       767.91   \n",
      "43   19.4     7.760    7.372          17.654       16.878      1004.75   \n",
      "44   11.3     4.859    1.808           9.944       10.848       809.38   \n",
      "45   13.6     4.080    4.080          13.056       12.920       716.20   \n",
      "46   12.7     2.413    3.429          11.049       11.176       768.95   \n",
      "47   10.6     4.452    3.498           8.692        9.116       890.03   \n",
      "48   23.8     8.092    6.664          23.086       20.706       992.61   \n",
      "49   13.8     4.968    4.554           5.382       11.592       670.31   \n",
      "50   17.4     7.308    5.568          14.094       15.660       791.14   \n",
      "\n",
      "    ins_losses abbrev  \n",
      "0       145.08     AL  \n",
      "1       133.93     AK  \n",
      "2       110.35     AZ  \n",
      "3       142.39     AR  \n",
      "4       165.63     CA  \n",
      "5       139.91     CO  \n",
      "6       167.02     CT  \n",
      "7       151.48     DE  \n",
      "8       136.05     DC  \n",
      "9       144.18     FL  \n",
      "10      142.80     GA  \n",
      "11      120.92     HI  \n",
      "12       82.75     ID  \n",
      "13      139.15     IL  \n",
      "14      108.92     IN  \n",
      "15      114.47     IA  \n",
      "16      133.80     KS  \n",
      "17      137.13     KY  \n",
      "18      194.78     LA  \n",
      "19       96.57     ME  \n",
      "20      192.70     MD  \n",
      "21      135.63     MA  \n",
      "22      152.26     MI  \n",
      "23      133.35     MN  \n",
      "24      155.77     MS  \n",
      "25      144.45     MO  \n",
      "26       85.15     MT  \n",
      "27      114.82     NE  \n",
      "28      138.71     NV  \n",
      "29      120.21     NH  \n",
      "30      159.85     NJ  \n",
      "31      120.75     NM  \n",
      "32      150.01     NY  \n",
      "33      127.82     NC  \n",
      "34      109.72     ND  \n",
      "35      133.52     OH  \n",
      "36      178.86     OK  \n",
      "37      104.61     OR  \n",
      "38      153.86     PA  \n",
      "39      148.58     RI  \n",
      "40      116.29     SC  \n",
      "41       96.87     SD  \n",
      "42      155.57     TN  \n",
      "43      156.83     TX  \n",
      "44      109.48     UT  \n",
      "45      109.61     VT  \n",
      "46      153.72     VA  \n",
      "47      111.62     WA  \n",
      "48      152.56     WV  \n",
      "49      106.62     WI  \n",
      "50      122.04     WY  \n"
     ]
    }
   ],
   "source": [
    "#printing the dataset\n",
    "print(dataset)"
   ]
  },
  {
   "cell_type": "code",
   "execution_count": 4,
   "id": "6661a995",
   "metadata": {},
   "outputs": [
    {
     "data": {
      "text/html": [
       "<div>\n",
       "<style scoped>\n",
       "    .dataframe tbody tr th:only-of-type {\n",
       "        vertical-align: middle;\n",
       "    }\n",
       "\n",
       "    .dataframe tbody tr th {\n",
       "        vertical-align: top;\n",
       "    }\n",
       "\n",
       "    .dataframe thead th {\n",
       "        text-align: right;\n",
       "    }\n",
       "</style>\n",
       "<table border=\"1\" class=\"dataframe\">\n",
       "  <thead>\n",
       "    <tr style=\"text-align: right;\">\n",
       "      <th></th>\n",
       "      <th>total</th>\n",
       "      <th>speeding</th>\n",
       "      <th>alcohol</th>\n",
       "      <th>not_distracted</th>\n",
       "      <th>no_previous</th>\n",
       "      <th>ins_premium</th>\n",
       "      <th>ins_losses</th>\n",
       "      <th>abbrev</th>\n",
       "    </tr>\n",
       "  </thead>\n",
       "  <tbody>\n",
       "    <tr>\n",
       "      <th>0</th>\n",
       "      <td>18.8</td>\n",
       "      <td>7.332</td>\n",
       "      <td>5.640</td>\n",
       "      <td>18.048</td>\n",
       "      <td>15.040</td>\n",
       "      <td>784.55</td>\n",
       "      <td>145.08</td>\n",
       "      <td>AL</td>\n",
       "    </tr>\n",
       "    <tr>\n",
       "      <th>1</th>\n",
       "      <td>18.1</td>\n",
       "      <td>7.421</td>\n",
       "      <td>4.525</td>\n",
       "      <td>16.290</td>\n",
       "      <td>17.014</td>\n",
       "      <td>1053.48</td>\n",
       "      <td>133.93</td>\n",
       "      <td>AK</td>\n",
       "    </tr>\n",
       "    <tr>\n",
       "      <th>2</th>\n",
       "      <td>18.6</td>\n",
       "      <td>6.510</td>\n",
       "      <td>5.208</td>\n",
       "      <td>15.624</td>\n",
       "      <td>17.856</td>\n",
       "      <td>899.47</td>\n",
       "      <td>110.35</td>\n",
       "      <td>AZ</td>\n",
       "    </tr>\n",
       "    <tr>\n",
       "      <th>3</th>\n",
       "      <td>22.4</td>\n",
       "      <td>4.032</td>\n",
       "      <td>5.824</td>\n",
       "      <td>21.056</td>\n",
       "      <td>21.280</td>\n",
       "      <td>827.34</td>\n",
       "      <td>142.39</td>\n",
       "      <td>AR</td>\n",
       "    </tr>\n",
       "    <tr>\n",
       "      <th>4</th>\n",
       "      <td>12.0</td>\n",
       "      <td>4.200</td>\n",
       "      <td>3.360</td>\n",
       "      <td>10.920</td>\n",
       "      <td>10.680</td>\n",
       "      <td>878.41</td>\n",
       "      <td>165.63</td>\n",
       "      <td>CA</td>\n",
       "    </tr>\n",
       "  </tbody>\n",
       "</table>\n",
       "</div>"
      ],
      "text/plain": [
       "   total  speeding  alcohol  not_distracted  no_previous  ins_premium  \\\n",
       "0   18.8     7.332    5.640          18.048       15.040       784.55   \n",
       "1   18.1     7.421    4.525          16.290       17.014      1053.48   \n",
       "2   18.6     6.510    5.208          15.624       17.856       899.47   \n",
       "3   22.4     4.032    5.824          21.056       21.280       827.34   \n",
       "4   12.0     4.200    3.360          10.920       10.680       878.41   \n",
       "\n",
       "   ins_losses abbrev  \n",
       "0      145.08     AL  \n",
       "1      133.93     AK  \n",
       "2      110.35     AZ  \n",
       "3      142.39     AR  \n",
       "4      165.63     CA  "
      ]
     },
     "execution_count": 4,
     "metadata": {},
     "output_type": "execute_result"
    }
   ],
   "source": [
    "#returning first 5 rows of dataset\n",
    "dataset.head() "
   ]
  },
  {
   "cell_type": "markdown",
   "id": "8003c710",
   "metadata": {},
   "source": [
    "## Exercise-2"
   ]
  },
  {
   "cell_type": "code",
   "execution_count": 5,
   "id": "c317d35f",
   "metadata": {},
   "outputs": [
    {
     "data": {
      "text/html": [
       "<div>\n",
       "<style scoped>\n",
       "    .dataframe tbody tr th:only-of-type {\n",
       "        vertical-align: middle;\n",
       "    }\n",
       "\n",
       "    .dataframe tbody tr th {\n",
       "        vertical-align: top;\n",
       "    }\n",
       "\n",
       "    .dataframe thead th {\n",
       "        text-align: right;\n",
       "    }\n",
       "</style>\n",
       "<table border=\"1\" class=\"dataframe\">\n",
       "  <thead>\n",
       "    <tr style=\"text-align: right;\">\n",
       "      <th></th>\n",
       "      <th>total</th>\n",
       "      <th>speeding</th>\n",
       "      <th>alcohol</th>\n",
       "      <th>not_distracted</th>\n",
       "      <th>no_previous</th>\n",
       "      <th>ins_premium</th>\n",
       "      <th>ins_losses</th>\n",
       "    </tr>\n",
       "  </thead>\n",
       "  <tbody>\n",
       "    <tr>\n",
       "      <th>total</th>\n",
       "      <td>1.000000</td>\n",
       "      <td>0.611548</td>\n",
       "      <td>0.852613</td>\n",
       "      <td>0.827560</td>\n",
       "      <td>0.956179</td>\n",
       "      <td>-0.199702</td>\n",
       "      <td>-0.036011</td>\n",
       "    </tr>\n",
       "    <tr>\n",
       "      <th>speeding</th>\n",
       "      <td>0.611548</td>\n",
       "      <td>1.000000</td>\n",
       "      <td>0.669719</td>\n",
       "      <td>0.588010</td>\n",
       "      <td>0.571976</td>\n",
       "      <td>-0.077675</td>\n",
       "      <td>-0.065928</td>\n",
       "    </tr>\n",
       "    <tr>\n",
       "      <th>alcohol</th>\n",
       "      <td>0.852613</td>\n",
       "      <td>0.669719</td>\n",
       "      <td>1.000000</td>\n",
       "      <td>0.732816</td>\n",
       "      <td>0.783520</td>\n",
       "      <td>-0.170612</td>\n",
       "      <td>-0.112547</td>\n",
       "    </tr>\n",
       "    <tr>\n",
       "      <th>not_distracted</th>\n",
       "      <td>0.827560</td>\n",
       "      <td>0.588010</td>\n",
       "      <td>0.732816</td>\n",
       "      <td>1.000000</td>\n",
       "      <td>0.747307</td>\n",
       "      <td>-0.174856</td>\n",
       "      <td>-0.075970</td>\n",
       "    </tr>\n",
       "    <tr>\n",
       "      <th>no_previous</th>\n",
       "      <td>0.956179</td>\n",
       "      <td>0.571976</td>\n",
       "      <td>0.783520</td>\n",
       "      <td>0.747307</td>\n",
       "      <td>1.000000</td>\n",
       "      <td>-0.156895</td>\n",
       "      <td>-0.006359</td>\n",
       "    </tr>\n",
       "    <tr>\n",
       "      <th>ins_premium</th>\n",
       "      <td>-0.199702</td>\n",
       "      <td>-0.077675</td>\n",
       "      <td>-0.170612</td>\n",
       "      <td>-0.174856</td>\n",
       "      <td>-0.156895</td>\n",
       "      <td>1.000000</td>\n",
       "      <td>0.623116</td>\n",
       "    </tr>\n",
       "    <tr>\n",
       "      <th>ins_losses</th>\n",
       "      <td>-0.036011</td>\n",
       "      <td>-0.065928</td>\n",
       "      <td>-0.112547</td>\n",
       "      <td>-0.075970</td>\n",
       "      <td>-0.006359</td>\n",
       "      <td>0.623116</td>\n",
       "      <td>1.000000</td>\n",
       "    </tr>\n",
       "  </tbody>\n",
       "</table>\n",
       "</div>"
      ],
      "text/plain": [
       "                   total  speeding   alcohol  not_distracted  no_previous  \\\n",
       "total           1.000000  0.611548  0.852613        0.827560     0.956179   \n",
       "speeding        0.611548  1.000000  0.669719        0.588010     0.571976   \n",
       "alcohol         0.852613  0.669719  1.000000        0.732816     0.783520   \n",
       "not_distracted  0.827560  0.588010  0.732816        1.000000     0.747307   \n",
       "no_previous     0.956179  0.571976  0.783520        0.747307     1.000000   \n",
       "ins_premium    -0.199702 -0.077675 -0.170612       -0.174856    -0.156895   \n",
       "ins_losses     -0.036011 -0.065928 -0.112547       -0.075970    -0.006359   \n",
       "\n",
       "                ins_premium  ins_losses  \n",
       "total             -0.199702   -0.036011  \n",
       "speeding          -0.077675   -0.065928  \n",
       "alcohol           -0.170612   -0.112547  \n",
       "not_distracted    -0.174856   -0.075970  \n",
       "no_previous       -0.156895   -0.006359  \n",
       "ins_premium        1.000000    0.623116  \n",
       "ins_losses         0.623116    1.000000  "
      ]
     },
     "execution_count": 5,
     "metadata": {},
     "output_type": "execute_result"
    }
   ],
   "source": [
    "# Task A. \n",
    "#correlating on State_data using corr() function\n",
    "dataset.corr()"
   ]
  },
  {
   "cell_type": "code",
   "execution_count": 6,
   "id": "0d0ede9b",
   "metadata": {},
   "outputs": [
    {
     "data": {
      "image/png": "[encoded data removed]",
      "text/plain": [
       "<Figure size 432x288 with 2 Axes>"
      ]
     },
     "metadata": {
      "needs_background": "light"
     },
     "output_type": "display_data"
    }
   ],
   "source": [
    "# Task B.\n",
    "#to generate heatmap, creating dataset without strings\n",
    "abbrev = pd.DataFrame(dataset, columns=['total', 'speeding', 'alcohol', 'not_distracted', 'no_previous', 'ins_premium','ins_losses'])\n",
    "heatmap = sns.heatmap(abbrev) #using Seaborn, Generate a heatmap()"
   ]
  },
  {
   "cell_type": "markdown",
   "id": "e6ab1ad7",
   "metadata": {},
   "source": [
    "## Exercise-3"
   ]
  },
  {
   "cell_type": "code",
   "execution_count": 7,
   "id": "97c61263",
   "metadata": {},
   "outputs": [
    {
     "name": "stderr",
     "output_type": "stream",
     "text": [
      "/Users/kuralaymakhmetova/opt/anaconda3/lib/python3.8/site-packages/seaborn/distributions.py:2557: FutureWarning: `distplot` is a deprecated function and will be removed in a future version. Please adapt your code to use either `displot` (a figure-level function with similar flexibility) or `histplot` (an axes-level function for histograms).\n",
      "  warnings.warn(msg, FutureWarning)\n"
     ]
    },
    {
     "data": {
      "image/png": "[encoded data removed]",
      "text/plain": [
       "<Figure size 432x288 with 1 Axes>"
      ]
     },
     "metadata": {
      "needs_background": "light"
     },
     "output_type": "display_data"
    }
   ],
   "source": [
    "# Task A. \n",
    "fig = sns.distplot(dataset['speeding']) #creating a distplot on State_data for speeding"
   ]
  },
  {
   "cell_type": "code",
   "execution_count": 8,
   "id": "50254fb9",
   "metadata": {},
   "outputs": [
    {
     "name": "stderr",
     "output_type": "stream",
     "text": [
      "/Users/kuralaymakhmetova/opt/anaconda3/lib/python3.8/site-packages/seaborn/distributions.py:2557: FutureWarning: `distplot` is a deprecated function and will be removed in a future version. Please adapt your code to use either `displot` (a figure-level function with similar flexibility) or `histplot` (an axes-level function for histograms).\n",
      "  warnings.warn(msg, FutureWarning)\n"
     ]
    },
    {
     "data": {
      "image/png": "[encoded data removed]",
      "text/plain": [
       "<Figure size 432x288 with 1 Axes>"
      ]
     },
     "metadata": {
      "needs_background": "light"
     },
     "output_type": "display_data"
    }
   ],
   "source": [
    "# Task B.\n",
    "fig = sns.distplot(dataset['alcohol']) #creating a distplot on State_data for alcohol"
   ]
  },
  {
   "cell_type": "code",
   "execution_count": 9,
   "id": "00f378ba",
   "metadata": {},
   "outputs": [
    {
     "name": "stderr",
     "output_type": "stream",
     "text": [
      "/Users/kuralaymakhmetova/opt/anaconda3/lib/python3.8/site-packages/seaborn/distributions.py:2557: FutureWarning: `distplot` is a deprecated function and will be removed in a future version. Please adapt your code to use either `displot` (a figure-level function with similar flexibility) or `histplot` (an axes-level function for histograms).\n",
      "  warnings.warn(msg, FutureWarning)\n"
     ]
    },
    {
     "data": {
      "image/png": "[encoded data removed]",
      "text/plain": [
       "<Figure size 432x288 with 1 Axes>"
      ]
     },
     "metadata": {
      "needs_background": "light"
     },
     "output_type": "display_data"
    }
   ],
   "source": [
    "# Task C. \n",
    "fig = sns.distplot(dataset['total']) #creating a distplot on State_data for total"
   ]
  },
  {
   "cell_type": "code",
   "execution_count": 11,
   "id": "058fc724",
   "metadata": {},
   "outputs": [],
   "source": [
    "# Task D. How does the plot look like?\n",
    " # Answer: It's showing in tasks A, B, C"
   ]
  },
  {
   "cell_type": "markdown",
   "id": "7b125a10",
   "metadata": {},
   "source": [
    "## Exercise-4"
   ]
  },
  {
   "cell_type": "code",
   "execution_count": 12,
   "id": "2323fba5",
   "metadata": {},
   "outputs": [
    {
     "name": "stderr",
     "output_type": "stream",
     "text": [
      "/Users/kuralaymakhmetova/opt/anaconda3/lib/python3.8/site-packages/seaborn/_decorators.py:36: FutureWarning: Pass the following variables as keyword args: x, y. From version 0.12, the only valid positional argument will be `data`, and passing other arguments without an explicit keyword will result in an error or misinterpretation.\n",
      "  warnings.warn(\n"
     ]
    },
    {
     "data": {
      "image/png": "[encoded data removed]",
      "text/plain": [
       "<Figure size 432x288 with 1 Axes>"
      ]
     },
     "metadata": {
      "needs_background": "light"
     },
     "output_type": "display_data"
    }
   ],
   "source": [
    "# Task A.\n",
    "x = dataset['abbrev'] # the abbrev as x coordinate\n",
    "y = dataset['speeding'] # the speeding as y coordinate\n",
    "ax = sns.barplot(x, y, data=dataset) #creating bar plot using abbrev and speeding"
   ]
  },
  {
   "cell_type": "code",
   "execution_count": 13,
   "id": "d25c1d43",
   "metadata": {},
   "outputs": [
    {
     "data": {
      "text/plain": [
       "[<matplotlib.lines.Line2D at 0x7fd06ca224c0>]"
      ]
     },
     "execution_count": 13,
     "metadata": {},
     "output_type": "execute_result"
    },
    {
     "data": {
      "image/png": "[encoded data removed]",
      "text/plain": [
       "<Figure size 432x288 with 1 Axes>"
      ]
     },
     "metadata": {
      "needs_background": "light"
     },
     "output_type": "display_data"
    }
   ],
   "source": [
    "# Task B. \n",
    "degrees = 100 #the degrees\n",
    "plt.xticks(rotation=degrees) # using xticks(rotation=?) to ensure that the axis values are not overlapping\n",
    "plt.plot(x, y) "
   ]
  },
  {
   "cell_type": "code",
   "execution_count": null,
   "id": "46ba0352",
   "metadata": {},
   "outputs": [],
   "source": []
  }
 ],
 "metadata": {
  "kernelspec": {
   "display_name": "Python 3",
   "language": "python",
   "name": "python3"
  },
  "language_info": {
   "codemirror_mode": {
    "name": "ipython",
    "version": 3
   },
   "file_extension": ".py",
   "mimetype": "text/x-python",
   "name": "python",
   "nbconvert_exporter": "python",
   "pygments_lexer": "ipython3",
   "version": "3.8.8"
  }
 },
 "nbformat": 4,
 "nbformat_minor": 5
}
